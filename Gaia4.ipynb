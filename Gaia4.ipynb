{
 "cells": [
  {
   "cell_type": "code",
   "execution_count": 8,
   "id": "bd43744d",
   "metadata": {},
   "outputs": [],
   "source": [
    "import matplotlib.pyplot as plt\n",
    "import numpy as np\n",
    "import pandas as pd \n",
    "\n",
    "from astropy import units as u\n",
    "from astropy import constants as c"
   ]
  },
  {
   "cell_type": "code",
   "execution_count": 19,
   "id": "aea40af8",
   "metadata": {},
   "outputs": [],
   "source": [
    "#### GAIA ARCHIVE WEBSITE ####\n",
    "adl = pd.read_csv('RealGaia.csv') #change filename, if needed"
   ]
  },
  {
   "cell_type": "code",
   "execution_count": 20,
   "id": "df8d9540",
   "metadata": {},
   "outputs": [
    {
     "data": {
      "text/html": [
       "<div>\n",
       "<style scoped>\n",
       "    .dataframe tbody tr th:only-of-type {\n",
       "        vertical-align: middle;\n",
       "    }\n",
       "\n",
       "    .dataframe tbody tr th {\n",
       "        vertical-align: top;\n",
       "    }\n",
       "\n",
       "    .dataframe thead th {\n",
       "        text-align: right;\n",
       "    }\n",
       "</style>\n",
       "<table border=\"1\" class=\"dataframe\">\n",
       "  <thead>\n",
       "    <tr style=\"text-align: right;\">\n",
       "      <th></th>\n",
       "      <th>source_id</th>\n",
       "      <th>ra</th>\n",
       "      <th>dec</th>\n",
       "      <th>parallax</th>\n",
       "      <th>parallax_error</th>\n",
       "      <th>phot_g_mean_mag</th>\n",
       "      <th>bp_rp</th>\n",
       "      <th>teff_val</th>\n",
       "      <th>lum_val</th>\n",
       "    </tr>\n",
       "  </thead>\n",
       "  <tbody>\n",
       "    <tr>\n",
       "      <th>0</th>\n",
       "      <td>6790995477169966848</td>\n",
       "      <td>320.460572</td>\n",
       "      <td>-26.221887</td>\n",
       "      <td>23.916346</td>\n",
       "      <td>0.059848</td>\n",
       "      <td>12.262900</td>\n",
       "      <td>2.052661</td>\n",
       "      <td>4029.0000</td>\n",
       "      <td>NaN</td>\n",
       "    </tr>\n",
       "    <tr>\n",
       "      <th>1</th>\n",
       "      <td>4415215217669031680</td>\n",
       "      <td>229.238223</td>\n",
       "      <td>-1.258608</td>\n",
       "      <td>21.651875</td>\n",
       "      <td>0.042970</td>\n",
       "      <td>14.166832</td>\n",
       "      <td>2.216067</td>\n",
       "      <td>4090.5176</td>\n",
       "      <td>NaN</td>\n",
       "    </tr>\n",
       "    <tr>\n",
       "      <th>2</th>\n",
       "      <td>6350283492745097728</td>\n",
       "      <td>355.984772</td>\n",
       "      <td>-82.508895</td>\n",
       "      <td>25.065893</td>\n",
       "      <td>0.026521</td>\n",
       "      <td>7.526386</td>\n",
       "      <td>0.791476</td>\n",
       "      <td>5890.2500</td>\n",
       "      <td>1.149332</td>\n",
       "    </tr>\n",
       "    <tr>\n",
       "      <th>3</th>\n",
       "      <td>6350264560529125248</td>\n",
       "      <td>358.934175</td>\n",
       "      <td>-82.598396</td>\n",
       "      <td>38.310702</td>\n",
       "      <td>0.049651</td>\n",
       "      <td>13.576039</td>\n",
       "      <td>2.850444</td>\n",
       "      <td>3684.7650</td>\n",
       "      <td>NaN</td>\n",
       "    </tr>\n",
       "    <tr>\n",
       "      <th>4</th>\n",
       "      <td>4154791250114009472</td>\n",
       "      <td>279.038968</td>\n",
       "      <td>-10.891548</td>\n",
       "      <td>28.605198</td>\n",
       "      <td>0.055018</td>\n",
       "      <td>8.330505</td>\n",
       "      <td>0.890158</td>\n",
       "      <td>5540.0000</td>\n",
       "      <td>0.431254</td>\n",
       "    </tr>\n",
       "    <tr>\n",
       "      <th>...</th>\n",
       "      <td>...</td>\n",
       "      <td>...</td>\n",
       "      <td>...</td>\n",
       "      <td>...</td>\n",
       "      <td>...</td>\n",
       "      <td>...</td>\n",
       "      <td>...</td>\n",
       "      <td>...</td>\n",
       "      <td>...</td>\n",
       "    </tr>\n",
       "    <tr>\n",
       "      <th>1995</th>\n",
       "      <td>6769834860501992064</td>\n",
       "      <td>290.253652</td>\n",
       "      <td>-24.684970</td>\n",
       "      <td>30.192069</td>\n",
       "      <td>0.038051</td>\n",
       "      <td>11.249575</td>\n",
       "      <td>2.040395</td>\n",
       "      <td>4153.6865</td>\n",
       "      <td>NaN</td>\n",
       "    </tr>\n",
       "    <tr>\n",
       "      <th>1996</th>\n",
       "      <td>446453642742074368</td>\n",
       "      <td>50.476934</td>\n",
       "      <td>53.487079</td>\n",
       "      <td>20.285489</td>\n",
       "      <td>0.043945</td>\n",
       "      <td>8.653861</td>\n",
       "      <td>0.887635</td>\n",
       "      <td>5530.7500</td>\n",
       "      <td>0.637226</td>\n",
       "    </tr>\n",
       "    <tr>\n",
       "      <th>1997</th>\n",
       "      <td>4502212219796085760</td>\n",
       "      <td>270.643502</td>\n",
       "      <td>16.602526</td>\n",
       "      <td>24.785891</td>\n",
       "      <td>0.034716</td>\n",
       "      <td>12.330368</td>\n",
       "      <td>2.054736</td>\n",
       "      <td>4029.0000</td>\n",
       "      <td>NaN</td>\n",
       "    </tr>\n",
       "    <tr>\n",
       "      <th>1998</th>\n",
       "      <td>3184351876391975808</td>\n",
       "      <td>69.423445</td>\n",
       "      <td>-11.039725</td>\n",
       "      <td>89.170836</td>\n",
       "      <td>0.031283</td>\n",
       "      <td>9.402222</td>\n",
       "      <td>2.252616</td>\n",
       "      <td>3914.4900</td>\n",
       "      <td>NaN</td>\n",
       "    </tr>\n",
       "    <tr>\n",
       "      <th>1999</th>\n",
       "      <td>1736710914226388096</td>\n",
       "      <td>316.536799</td>\n",
       "      <td>6.217580</td>\n",
       "      <td>20.481596</td>\n",
       "      <td>1.459256</td>\n",
       "      <td>12.214254</td>\n",
       "      <td>0.750687</td>\n",
       "      <td>6274.1553</td>\n",
       "      <td>NaN</td>\n",
       "    </tr>\n",
       "  </tbody>\n",
       "</table>\n",
       "<p>2000 rows × 9 columns</p>\n",
       "</div>"
      ],
      "text/plain": [
       "                source_id          ra        dec   parallax  parallax_error  \\\n",
       "0     6790995477169966848  320.460572 -26.221887  23.916346        0.059848   \n",
       "1     4415215217669031680  229.238223  -1.258608  21.651875        0.042970   \n",
       "2     6350283492745097728  355.984772 -82.508895  25.065893        0.026521   \n",
       "3     6350264560529125248  358.934175 -82.598396  38.310702        0.049651   \n",
       "4     4154791250114009472  279.038968 -10.891548  28.605198        0.055018   \n",
       "...                   ...         ...        ...        ...             ...   \n",
       "1995  6769834860501992064  290.253652 -24.684970  30.192069        0.038051   \n",
       "1996   446453642742074368   50.476934  53.487079  20.285489        0.043945   \n",
       "1997  4502212219796085760  270.643502  16.602526  24.785891        0.034716   \n",
       "1998  3184351876391975808   69.423445 -11.039725  89.170836        0.031283   \n",
       "1999  1736710914226388096  316.536799   6.217580  20.481596        1.459256   \n",
       "\n",
       "      phot_g_mean_mag     bp_rp   teff_val   lum_val  \n",
       "0           12.262900  2.052661  4029.0000       NaN  \n",
       "1           14.166832  2.216067  4090.5176       NaN  \n",
       "2            7.526386  0.791476  5890.2500  1.149332  \n",
       "3           13.576039  2.850444  3684.7650       NaN  \n",
       "4            8.330505  0.890158  5540.0000  0.431254  \n",
       "...               ...       ...        ...       ...  \n",
       "1995        11.249575  2.040395  4153.6865       NaN  \n",
       "1996         8.653861  0.887635  5530.7500  0.637226  \n",
       "1997        12.330368  2.054736  4029.0000       NaN  \n",
       "1998         9.402222  2.252616  3914.4900       NaN  \n",
       "1999        12.214254  0.750687  6274.1553       NaN  \n",
       "\n",
       "[2000 rows x 9 columns]"
      ]
     },
     "execution_count": 20,
     "metadata": {},
     "output_type": "execute_result"
    }
   ],
   "source": [
    "adl"
   ]
  },
  {
   "cell_type": "code",
   "execution_count": 21,
   "id": "ff742963",
   "metadata": {},
   "outputs": [
    {
     "name": "stdout",
     "output_type": "stream",
     "text": [
      "2000\n"
     ]
    }
   ],
   "source": [
    "numberofstars=len(adl['source_id'])\n",
    "print(numberofstars)"
   ]
  },
  {
   "cell_type": "code",
   "execution_count": 43,
   "id": "75b577c7",
   "metadata": {},
   "outputs": [
    {
     "data": {
      "image/png": "[encoded data removed]",
      "text/plain": [
       "<Figure size 432x288 with 1 Axes>"
      ]
     },
     "metadata": {
      "needs_background": "light"
     },
     "output_type": "display_data"
    }
   ],
   "source": [
    "sn_parallax = adl['parallax'] / adl['parallax_error']\n",
    "\n",
    "\n",
    "# Create histogram\n",
    "plt.hist(sn_parallax, bins=)\n",
    "\n",
    "# Set axis labels and title\n",
    "plt.xlabel('Parallax S/N')\n",
    "plt.ylabel('Frequency')\n",
    "plt.title('Histogram of Parallax S/N')\n",
    "\n",
    "# Show the plot\n",
    "plt.show()"
   ]
  },
  {
   "cell_type": "code",
   "execution_count": 28,
   "id": "db60422d",
   "metadata": {},
   "outputs": [],
   "source": [
    "temp=adl['teff_val']\n",
    "lum=adl['lum_val']"
   ]
  },
  {
   "cell_type": "code",
   "execution_count": 45,
   "id": "974d44d9",
   "metadata": {},
   "outputs": [
    {
     "data": {
      "image/png": "[encoded data removed]",
      "text/plain": [
       "<Figure size 432x288 with 1 Axes>"
      ]
     },
     "metadata": {
      "needs_background": "light"
     },
     "output_type": "display_data"
    }
   ],
   "source": [
    "fig, ax = plt.subplots()\n",
    "ax.scatter(temp, lum, s=.2)\n",
    "ax.set_xlabel('Effective temperature (K)')\n",
    "ax.set_ylabel('Luminosity (solar units)')\n",
    "ax.set_xscale('log')\n",
    "ax.set_yscale('log')\n",
    "ax.invert_xaxis()\n",
    "plt.show()"
   ]
  },
  {
   "cell_type": "code",
   "execution_count": 38,
   "id": "c38877ba",
   "metadata": {},
   "outputs": [],
   "source": [
    "g_mag=adl['phot_g_mean_mag']\n",
    "bp_rp=adl['bp_rp']"
   ]
  },
  {
   "cell_type": "code",
   "execution_count": 46,
   "id": "fccf1331",
   "metadata": {},
   "outputs": [
    {
     "data": {
      "image/png": "[encoded data removed]",
      "text/plain": [
       "<Figure size 432x288 with 1 Axes>"
      ]
     },
     "metadata": {
      "needs_background": "light"
     },
     "output_type": "display_data"
    }
   ],
   "source": [
    "fig, ax = plt.subplots()\n",
    "ax.scatter(bp_rp, g_mag, s=.08)\n",
    "ax.set_xlabel('BP-RP')\n",
    "ax.set_ylabel('G Magnitude')\n",
    "ax.set_xscale('log')\n",
    "ax.set_yscale('log')\n",
    "ax.invert_xaxis()\n",
    "plt.show()"
   ]
  },
  {
   "cell_type": "code",
   "execution_count": null,
   "id": "1e6f332b",
   "metadata": {},
   "outputs": [],
   "source": []
  }
 ],
 "metadata": {
  "kernelspec": {
   "display_name": "Python 3 (ipykernel)",
   "language": "python",
   "name": "python3"
  },
  "language_info": {
   "codemirror_mode": {
    "name": "ipython",
    "version": 3
   },
   "file_extension": ".py",
   "mimetype": "text/x-python",
   "name": "python",
   "nbconvert_exporter": "python",
   "pygments_lexer": "ipython3",
   "version": "3.9.12"
  }
 },
 "nbformat": 4,
 "nbformat_minor": 5
}
